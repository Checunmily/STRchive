{
 "cells": [
  {
   "cell_type": "code",
   "execution_count": 37,
   "metadata": {
    "vscode": {
     "languageId": "shellscript"
    }
   },
   "outputs": [],
   "source": [
    "from Bio.Seq import Seq\n",
    "import pandas as pd\n",
    "from itertools import product\n",
    "import re\n",
    "\n",
    "def circular_permuted(x):\n",
    "    \"\"\"\n",
    "    Args:\n",
    "        x (iterator)\n",
    "    Returns:\n",
    "        list: All circular permutations of x with 'N' replaced by 'A', 'T', 'G', and 'C'\n",
    "    \"\"\"\n",
    "    n = len(x)\n",
    "    modified_sequences = []\n",
    "\n",
    "    # Replace 'N' with 'A', 'T', 'G', and 'C' separately and generate circular permutations for each\n",
    "    for replacement in ['A', 'T', 'G', 'C']:\n",
    "        modified_x = x.replace('N', replacement)\n",
    "        modified_sequences.extend([modified_x[i:] + modified_x[:i] for i in range(n)])\n",
    "\n",
    "    return modified_sequences\n",
    "\n",
    "def normalise_str(in_dna):\n",
    "    \"\"\"\n",
    "    Find all possible equivalent STR sequences.\n",
    "    And return the first alphabetically for each replacement of 'N'.\n",
    "    For example, if 'N' is present, return the first alphabetically for 'A', 'T', 'G', and 'C' replacements.\n",
    "    \"\"\"\n",
    "    if in_dna is None or len(in_dna) == 0:\n",
    "        return ''\n",
    "\n",
    "    all_possible = []\n",
    "\n",
    "    # Find all positions of 'N' in the input sequence\n",
    "    n_positions = [i for i, nucleotide in enumerate(in_dna) if nucleotide == 'N']\n",
    "\n",
    "    # If 'N' is present, replace each 'N' with 'A', 'T', 'G', and 'C' separately\n",
    "    if n_positions:\n",
    "        results = []\n",
    "        for replacement_combination in product('ATGC', repeat=len(n_positions)):\n",
    "            modified_dna = list(in_dna)\n",
    "            for i, replacement in zip(n_positions, replacement_combination):\n",
    "                modified_dna[i] = replacement\n",
    "            modified_results = circular_permuted(\"\".join(modified_dna))\n",
    "            if modified_results:\n",
    "                results.append(min(modified_results))\n",
    "        return results\n",
    "    else:\n",
    "        # Circularly permute the original sequence and reverse complement\n",
    "        for permuted_seq in circular_permuted(in_dna):\n",
    "            all_possible.append(permuted_seq)\n",
    "        \n",
    "        return [min(all_possible)]\n",
    "\n",
    "\n",
    "def check_match(list1, list2):\n",
    "    matching_result = None\n",
    "    for result in list1:\n",
    "        if result in normalized_reference_rc:\n",
    "            matching_result = result\n",
    "            break\n",
    "        if matching_result is None:\n",
    "            # If NONE of the results match\n",
    "            matching_result = \"MAYDAY MAYDAY!\"\n",
    "    return matching_result"
   ]
  },
  {
   "cell_type": "code",
   "execution_count": 2,
   "metadata": {
    "vscode": {
     "languageId": "shellscript"
    }
   },
   "outputs": [
    {
     "data": {
      "text/plain": [
       "['AAAG',\n",
       " 'AAGA',\n",
       " 'AGAA',\n",
       " 'GAAA',\n",
       " 'ATTG',\n",
       " 'TTGA',\n",
       " 'TGAT',\n",
       " 'GATT',\n",
       " 'AGGG',\n",
       " 'GGGA',\n",
       " 'GGAG',\n",
       " 'GAGG',\n",
       " 'ACCG',\n",
       " 'CCGA',\n",
       " 'CGAC',\n",
       " 'GACC']"
      ]
     },
     "execution_count": 2,
     "metadata": {},
     "output_type": "execute_result"
    }
   ],
   "source": [
    "circular_permuted(\"ANNG\")"
   ]
  },
  {
   "cell_type": "code",
   "execution_count": 3,
   "metadata": {
    "vscode": {
     "languageId": "shellscript"
    }
   },
   "outputs": [
    {
     "data": {
      "text/plain": [
       "['AGT', 'GTT', 'GGT', 'CGT']"
      ]
     },
     "execution_count": 3,
     "metadata": {},
     "output_type": "execute_result"
    }
   ],
   "source": [
    "normalise_str(\"TNG\")"
   ]
  },
  {
   "cell_type": "code",
   "execution_count": null,
   "metadata": {
    "vscode": {
     "languageId": "shellscript"
    }
   },
   "outputs": [],
   "source": [
    "import pandas as pd\n",
    "from Bio.Seq import Seq\n",
    "import re\n",
    "\n",
    "# Read the CSV file into a DataFrame\n",
    "df = pd.read_csv(\"STR-disease-loci.csv\")\n",
    "\n",
    "# Create an empty list to store the results\n",
    "results = []\n",
    "\n",
    "# Iterate through the rows of the DataFrame\n",
    "for index, row in df.iterrows():\n",
    "    gene_strand = row['gene_strand']\n",
    "    reference_orientation = row['pathogenic_motif_reference_orientation']\n",
    "    repeatunit_gene_orientation = row['repeatunit_pathogenic_geneorientation']\n",
    "\n",
    "    # Check if ',' is NOT in the motifs\n",
    "    if ',' not in reference_orientation and ',' not in repeatunit_gene_orientation:\n",
    "        # Check if gene_strand is \"+\"\n",
    "        if gene_strand == \"+\":\n",
    "            pathogenic_motif_gene_orientation = reference_orientation\n",
    "        else:\n",
    "            # Reverse complement for gene_strand == \"-\"\n",
    "            reference_orientation_rc = str(Seq(reference_orientation).reverse_complement())\n",
    "\n",
    "            # Run normalise_str for reference_orientation and its reverse complement\n",
    "            normalized_reference_rc = normalise_str(reference_orientation_rc)\n",
    "            normalized_repeatunit = normalise_str(repeatunit_gene_orientation)\n",
    "\n",
    "            # Check if ANY of the results match between normalized_repeatunit and normalized_reference_rc\n",
    "            matching_result = None\n",
    "            for result in normalized_repeatunit:\n",
    "                if result in normalized_reference_rc:\n",
    "                    matching_result = result\n",
    "                    break\n",
    "\n",
    "            if matching_result is None:\n",
    "                # If NONE of the results match\n",
    "                matching_result = \"MAYDAY MAYDAY!\"\n",
    "\n",
    "            pathogenic_motif_gene_orientation = matching_result\n",
    "\n",
    "        # Append the result to the results list\n",
    "        results.append(pathogenic_motif_gene_orientation)\n",
    "    \n",
    "    else:\n",
    "        # Handle rows with commas as a special case\n",
    "        reference_motifs = [motif.strip() for motif in re.split(r',', reference_orientation)]\n",
    "        repeatunit_motifs = [motif.strip() for motif in re.split(r',', repeatunit_gene_orientation)]\n",
    "\n",
    "        matching_results = []\n",
    "\n",
    "        for reference_motif in reference_motifs:\n",
    "            for repeatunit_motif in repeatunit_motifs:\n",
    "                if gene_strand == \"+\":\n",
    "                    if reference_motif == repeatunit_motif:\n",
    "                        matching_results.append(reference_motif)\n",
    "                else:\n",
    "                    reference_orientation_rc = str(Seq(reference_motif).reverse_complement())\n",
    "                    normalized_reference_rc = normalise_str(reference_orientation_rc)\n",
    "                    normalized_repeatunit = normalise_str(repeatunit_motif)\n",
    "                    if normalized_reference_rc == normalized_repeatunit:\n",
    "                        matching_results.append(normalized_reference_rc)\n",
    "\n",
    "        if not matching_results:\n",
    "            # If NONE of the results match\n",
    "            matching_result = \"MAYDAY MAYDAY!\"\n",
    "        else:\n",
    "            # Join matching results with a comma\n",
    "            matching_result = ', '.join(matching_results)\n",
    "\n",
    "        # Append the result to the results list\n",
    "        results.append(matching_result)\n",
    "\n",
    "# Add the results as a new column in the DataFrame\n",
    "df['pathogenic_motif_gene_orientation'] = results\n",
    "\n",
    "# Save the updated DataFrame to a CSV file\n",
    "df.to_csv(\"updated_STR-disease-loci.csv\", index=False)"
   ]
  },
  {
   "cell_type": "code",
   "execution_count": 39,
   "metadata": {
    "vscode": {
     "languageId": "shellscript"
    }
   },
   "outputs": [],
   "source": [
    "# Read the CSV file into a DataFrame\n",
    "df = pd.read_csv(\"STR-disease-loci.csv\")\n",
    "\n",
    "# Create an empty list to store the results\n",
    "results = []\n",
    "\n",
    "# Iterate through the rows of the DataFrame\n",
    "for index, row in df.iterrows():\n",
    "    gene_strand = row['gene_strand']\n",
    "    reference_orientation = row['pathogenic_motif_reference_orientation']\n",
    "    repeatunit_gene_orientation = row['repeatunit_pathogenic_geneorientation']\n",
    "\n",
    "    # Check if gene_strand is \"+\"\n",
    "    if gene_strand == \"+\":\n",
    "        pathogenic_motif_gene_orientation = reference_orientation\n",
    "    elif ',' in reference_orientation or ',' in repeatunit_gene_orientation:\n",
    "        normalized_reference_reverse_complements = []\n",
    "        reference_motifs = [motif.strip() for motif in re.split(r',', reference_orientation)]\n",
    "        # print(\"reference motifs\", reference_motifs)\n",
    "        for motif in reference_motifs:\n",
    "            seq = Seq(motif)\n",
    "            reverse_comp = str(seq.reverse_complement())\n",
    "            normalized_reference_motifs_rc = normalise_str(reverse_comp)\n",
    "            normalized_reference_reverse_complements.append(str(normalized_reference_motifs_rc))  # Append reverse complement as a string to the list\n",
    "\n",
    "# Print the list of reverse complements\n",
    "        # for reverse_comp in reverse_complements:\n",
    "        #     print(\"Reverse Complement:\", reverse_comp)\n",
    "        repeatunit_motifs = [motif.strip() for motif in re.split(r',', repeatunit_gene_orientation)]\n",
    "        normalized_repeatunit_motifs = []\n",
    "        for motif in repeatunit_motifs:\n",
    "            normalized_repeatunit = str(normalise_str(motif))\n",
    "            normalized_repeatunit_motifs.append(str(normalized_repeatunit))  # Append repeat unit\n",
    "        \n",
    "        matching_result = None\n",
    "        for result in normalized_repeatunit_motifs:\n",
    "            if result in normalized_reference_reverse_complements:\n",
    "                matching_result = result\n",
    "                break\n",
    "        \n",
    "        if matching_result is None:\n",
    "            # If NONE of the results match\n",
    "            matching_result = \"MAYDAY MAYDAY!\"\n",
    "        \n",
    "        pathogenic_motif_gene_orientation = matching_result\n",
    "        \n",
    "    else:\n",
    "        # Reverse complement for gene_strand == \"-\"\n",
    "        reference_orientation_rc = str(Seq(reference_orientation).reverse_complement())\n",
    "\n",
    "        # Run normalise_str for reference_orientation and its reverse complement\n",
    "        normalized_reference_rc = normalise_str(reference_orientation_rc)\n",
    "        normalized_repeatunit = normalise_str(repeatunit_gene_orientation)\n",
    "\n",
    "        # Check if ANY of the results match between normalized_repeatunit and normalized_reference_rc\n",
    "        matching_result = None\n",
    "        for result in normalized_repeatunit:\n",
    "            if result in normalized_reference_rc:\n",
    "                matching_result = result\n",
    "                break\n",
    "        \n",
    "        if matching_result is None:\n",
    "            # If NONE of the results match\n",
    "            matching_result = \"MAYDAY MAYDAY!\"\n",
    "        \n",
    "        pathogenic_motif_gene_orientation = matching_result\n",
    "\n",
    "    # Append the result to the results list\n",
    "    results.append(pathogenic_motif_gene_orientation)\n",
    "\n",
    "# Add the results as a new column in the DataFrame\n",
    "df['pathogenic_motif_gene_orientation'] = results\n",
    "\n",
    "# Save the updated DataFrame to a CSV file\n",
    "df.to_csv(\"updated_in_progress_STR-disease-loci.csv\", index=False)"
   ]
  }
 ],
 "metadata": {
  "kernelspec": {
   "display_name": "Python 3",
   "language": "python",
   "name": "python3"
  },
  "language_info": {
   "codemirror_mode": {
    "name": "ipython",
    "version": 3
   },
   "file_extension": ".py",
   "mimetype": "text/x-python",
   "name": "python",
   "nbconvert_exporter": "python",
   "pygments_lexer": "ipython3",
   "version": "3.10.9"
  },
  "orig_nbformat": 4
 },
 "nbformat": 4,
 "nbformat_minor": 2
}
